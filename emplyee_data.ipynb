{
 "cells": [
  {
   "cell_type": "code",
   "execution_count": 88,
   "id": "29d221e8-043b-472b-a84c-6628bc1fe754",
   "metadata": {},
   "outputs": [],
   "source": [
    "import pandas as pd"
   ]
  },
  {
   "cell_type": "markdown",
   "id": "09c1cf51-0584-4c27-b34d-6b07c19dd790",
   "metadata": {},
   "source": [
    "# b)\tWrite the query that shows how many duplicate records are there? Further fetch all the duplicate records.\n",
    "# c)\tWrite the query to find the count of each designation in the data? \n",
    "# d)\tRemove the duplicate record from the employee data frame.\n",
    "# e)\tWrite the code to fill the missing value of the Salary, Department, Age columns? Discuss your choice of value, like a hard coded value, a mean, median, mode of the column?\n",
    "# f)\tWrite the code to find the average salary of the accounts department.\n",
    "# g)\tWhat the Emp_ID of the manager having the highest salary\n",
    "# h)\tWhat is the average age of the Officers in the company?\n",
    "# i)\tWrite the query to show how many employees are working in IT department?\n",
    "# j)\tAfter cleaning the employee data set, save the data set in csv format in a file named as ‘employee.csv’."
   ]
  },
  {
   "cell_type": "code",
   "execution_count": 89,
   "id": "a98062c6-801c-459f-94a8-6bf0c096b520",
   "metadata": {},
   "outputs": [],
   "source": [
    "data = pd.read_excel(\"employee.xlsx\" , index_col=\"Serial\")"
   ]
  },
  {
   "cell_type": "code",
   "execution_count": 90,
   "id": "da9af9b7-3e05-4841-85bd-b7f2bef6b966",
   "metadata": {},
   "outputs": [
    {
     "data": {
      "text/html": [
       "<div>\n",
       "<style scoped>\n",
       "    .dataframe tbody tr th:only-of-type {\n",
       "        vertical-align: middle;\n",
       "    }\n",
       "\n",
       "    .dataframe tbody tr th {\n",
       "        vertical-align: top;\n",
       "    }\n",
       "\n",
       "    .dataframe thead th {\n",
       "        text-align: right;\n",
       "    }\n",
       "</style>\n",
       "<table border=\"1\" class=\"dataframe\">\n",
       "  <thead>\n",
       "    <tr style=\"text-align: right;\">\n",
       "      <th></th>\n",
       "      <th>Emp_ID</th>\n",
       "      <th>Designation</th>\n",
       "      <th>Department</th>\n",
       "      <th>Age</th>\n",
       "      <th>Salary</th>\n",
       "    </tr>\n",
       "    <tr>\n",
       "      <th>Serial</th>\n",
       "      <th></th>\n",
       "      <th></th>\n",
       "      <th></th>\n",
       "      <th></th>\n",
       "      <th></th>\n",
       "    </tr>\n",
       "  </thead>\n",
       "  <tbody>\n",
       "    <tr>\n",
       "      <th>1</th>\n",
       "      <td>1101</td>\n",
       "      <td>Manager</td>\n",
       "      <td>Accounts</td>\n",
       "      <td>50.0</td>\n",
       "      <td>200000.0</td>\n",
       "    </tr>\n",
       "    <tr>\n",
       "      <th>2</th>\n",
       "      <td>1107</td>\n",
       "      <td>Officer</td>\n",
       "      <td>IT</td>\n",
       "      <td>30.0</td>\n",
       "      <td>80000.0</td>\n",
       "    </tr>\n",
       "    <tr>\n",
       "      <th>3</th>\n",
       "      <td>1203</td>\n",
       "      <td>Officer</td>\n",
       "      <td>HR</td>\n",
       "      <td>28.0</td>\n",
       "      <td>NaN</td>\n",
       "    </tr>\n",
       "    <tr>\n",
       "      <th>4</th>\n",
       "      <td>1005</td>\n",
       "      <td>Manager</td>\n",
       "      <td>HR</td>\n",
       "      <td>45.0</td>\n",
       "      <td>120000.0</td>\n",
       "    </tr>\n",
       "    <tr>\n",
       "      <th>5</th>\n",
       "      <td>2123</td>\n",
       "      <td>Office Boy</td>\n",
       "      <td>Accounts</td>\n",
       "      <td>27.0</td>\n",
       "      <td>45000.0</td>\n",
       "    </tr>\n",
       "    <tr>\n",
       "      <th>6</th>\n",
       "      <td>2451</td>\n",
       "      <td>Accountant</td>\n",
       "      <td>NaN</td>\n",
       "      <td>34.0</td>\n",
       "      <td>100000.0</td>\n",
       "    </tr>\n",
       "    <tr>\n",
       "      <th>7</th>\n",
       "      <td>1111</td>\n",
       "      <td>Accountant</td>\n",
       "      <td>Accounts</td>\n",
       "      <td>NaN</td>\n",
       "      <td>110000.0</td>\n",
       "    </tr>\n",
       "    <tr>\n",
       "      <th>8</th>\n",
       "      <td>1001</td>\n",
       "      <td>Officer</td>\n",
       "      <td>IT</td>\n",
       "      <td>25.0</td>\n",
       "      <td>75000.0</td>\n",
       "    </tr>\n",
       "    <tr>\n",
       "      <th>9</th>\n",
       "      <td>1234</td>\n",
       "      <td>Manager</td>\n",
       "      <td>IT</td>\n",
       "      <td>23.0</td>\n",
       "      <td>NaN</td>\n",
       "    </tr>\n",
       "    <tr>\n",
       "      <th>10</th>\n",
       "      <td>2156</td>\n",
       "      <td>Engineer</td>\n",
       "      <td>Production</td>\n",
       "      <td>45.0</td>\n",
       "      <td>89000.0</td>\n",
       "    </tr>\n",
       "    <tr>\n",
       "      <th>11</th>\n",
       "      <td>6543</td>\n",
       "      <td>Officer</td>\n",
       "      <td>Production</td>\n",
       "      <td>29.0</td>\n",
       "      <td>100000.0</td>\n",
       "    </tr>\n",
       "    <tr>\n",
       "      <th>12</th>\n",
       "      <td>3214</td>\n",
       "      <td>Accountant</td>\n",
       "      <td>Account</td>\n",
       "      <td>49.0</td>\n",
       "      <td>123000.0</td>\n",
       "    </tr>\n",
       "    <tr>\n",
       "      <th>13</th>\n",
       "      <td>2156</td>\n",
       "      <td>Engineer</td>\n",
       "      <td>Production</td>\n",
       "      <td>45.0</td>\n",
       "      <td>89000.0</td>\n",
       "    </tr>\n",
       "    <tr>\n",
       "      <th>14</th>\n",
       "      <td>1098</td>\n",
       "      <td>Officer</td>\n",
       "      <td>IT</td>\n",
       "      <td>25.0</td>\n",
       "      <td>100000.0</td>\n",
       "    </tr>\n",
       "    <tr>\n",
       "      <th>15</th>\n",
       "      <td>2912</td>\n",
       "      <td>Officer</td>\n",
       "      <td>IT</td>\n",
       "      <td>31.0</td>\n",
       "      <td>90000.0</td>\n",
       "    </tr>\n",
       "    <tr>\n",
       "      <th>16</th>\n",
       "      <td>1222</td>\n",
       "      <td>Officer</td>\n",
       "      <td>NaN</td>\n",
       "      <td>25.0</td>\n",
       "      <td>NaN</td>\n",
       "    </tr>\n",
       "    <tr>\n",
       "      <th>17</th>\n",
       "      <td>2156</td>\n",
       "      <td>Engineer</td>\n",
       "      <td>Production</td>\n",
       "      <td>45.0</td>\n",
       "      <td>89000.0</td>\n",
       "    </tr>\n",
       "    <tr>\n",
       "      <th>18</th>\n",
       "      <td>2123</td>\n",
       "      <td>Office Boy</td>\n",
       "      <td>Accounts</td>\n",
       "      <td>27.0</td>\n",
       "      <td>45000.0</td>\n",
       "    </tr>\n",
       "  </tbody>\n",
       "</table>\n",
       "</div>"
      ],
      "text/plain": [
       "        Emp_ID Designation  Department   Age    Salary\n",
       "Serial                                                \n",
       "1         1101     Manager    Accounts  50.0  200000.0\n",
       "2         1107     Officer          IT  30.0   80000.0\n",
       "3         1203     Officer          HR  28.0       NaN\n",
       "4         1005     Manager          HR  45.0  120000.0\n",
       "5         2123  Office Boy    Accounts  27.0   45000.0\n",
       "6         2451  Accountant         NaN  34.0  100000.0\n",
       "7         1111  Accountant    Accounts   NaN  110000.0\n",
       "8         1001     Officer          IT  25.0   75000.0\n",
       "9         1234     Manager          IT  23.0       NaN\n",
       "10        2156    Engineer  Production  45.0   89000.0\n",
       "11        6543     Officer  Production  29.0  100000.0\n",
       "12        3214  Accountant     Account  49.0  123000.0\n",
       "13        2156    Engineer  Production  45.0   89000.0\n",
       "14        1098     Officer          IT  25.0  100000.0\n",
       "15        2912     Officer          IT  31.0   90000.0\n",
       "16        1222     Officer         NaN  25.0       NaN\n",
       "17        2156    Engineer  Production  45.0   89000.0\n",
       "18        2123  Office Boy    Accounts  27.0   45000.0"
      ]
     },
     "execution_count": 90,
     "metadata": {},
     "output_type": "execute_result"
    }
   ],
   "source": [
    "data"
   ]
  },
  {
   "cell_type": "markdown",
   "id": "277b50ca-851d-4aed-ba37-931606dacd03",
   "metadata": {},
   "source": [
    "# b) Write the query that shows how many duplicate records are there? Further fetch all the duplicate records."
   ]
  },
  {
   "cell_type": "code",
   "execution_count": 91,
   "id": "62c8b5ed-83a4-4b92-afbb-b215565205d4",
   "metadata": {},
   "outputs": [
    {
     "data": {
      "text/plain": [
       "3"
      ]
     },
     "execution_count": 91,
     "metadata": {},
     "output_type": "execute_result"
    }
   ],
   "source": [
    "data.duplicated().sum()"
   ]
  },
  {
   "cell_type": "code",
   "execution_count": 92,
   "id": "593607f4-de03-45bb-9c64-4c3c39661709",
   "metadata": {},
   "outputs": [
    {
     "data": {
      "text/html": [
       "<div>\n",
       "<style scoped>\n",
       "    .dataframe tbody tr th:only-of-type {\n",
       "        vertical-align: middle;\n",
       "    }\n",
       "\n",
       "    .dataframe tbody tr th {\n",
       "        vertical-align: top;\n",
       "    }\n",
       "\n",
       "    .dataframe thead th {\n",
       "        text-align: right;\n",
       "    }\n",
       "</style>\n",
       "<table border=\"1\" class=\"dataframe\">\n",
       "  <thead>\n",
       "    <tr style=\"text-align: right;\">\n",
       "      <th></th>\n",
       "      <th>Emp_ID</th>\n",
       "      <th>Designation</th>\n",
       "      <th>Department</th>\n",
       "      <th>Age</th>\n",
       "      <th>Salary</th>\n",
       "    </tr>\n",
       "    <tr>\n",
       "      <th>Serial</th>\n",
       "      <th></th>\n",
       "      <th></th>\n",
       "      <th></th>\n",
       "      <th></th>\n",
       "      <th></th>\n",
       "    </tr>\n",
       "  </thead>\n",
       "  <tbody>\n",
       "    <tr>\n",
       "      <th>13</th>\n",
       "      <td>2156</td>\n",
       "      <td>Engineer</td>\n",
       "      <td>Production</td>\n",
       "      <td>45.0</td>\n",
       "      <td>89000.0</td>\n",
       "    </tr>\n",
       "    <tr>\n",
       "      <th>17</th>\n",
       "      <td>2156</td>\n",
       "      <td>Engineer</td>\n",
       "      <td>Production</td>\n",
       "      <td>45.0</td>\n",
       "      <td>89000.0</td>\n",
       "    </tr>\n",
       "    <tr>\n",
       "      <th>18</th>\n",
       "      <td>2123</td>\n",
       "      <td>Office Boy</td>\n",
       "      <td>Accounts</td>\n",
       "      <td>27.0</td>\n",
       "      <td>45000.0</td>\n",
       "    </tr>\n",
       "  </tbody>\n",
       "</table>\n",
       "</div>"
      ],
      "text/plain": [
       "        Emp_ID Designation  Department   Age   Salary\n",
       "Serial                                               \n",
       "13        2156    Engineer  Production  45.0  89000.0\n",
       "17        2156    Engineer  Production  45.0  89000.0\n",
       "18        2123  Office Boy    Accounts  27.0  45000.0"
      ]
     },
     "execution_count": 92,
     "metadata": {},
     "output_type": "execute_result"
    }
   ],
   "source": [
    "data[data.duplicated()]"
   ]
  },
  {
   "cell_type": "markdown",
   "id": "b495ab2d-3fd0-4094-a775-cb43e1ebf965",
   "metadata": {},
   "source": [
    "# c) Write the query to find the count of each designation in the data?"
   ]
  },
  {
   "cell_type": "code",
   "execution_count": 93,
   "id": "6fb10b40-a3f9-4c6c-8bc2-adcaea29dfbd",
   "metadata": {},
   "outputs": [
    {
     "data": {
      "text/plain": [
       "Designation\n",
       "Officer       7\n",
       "Manager       3\n",
       "Accountant    3\n",
       "Engineer      3\n",
       "Office Boy    2\n",
       "Name: count, dtype: int64"
      ]
     },
     "execution_count": 93,
     "metadata": {},
     "output_type": "execute_result"
    }
   ],
   "source": [
    "data.Designation.value_counts()"
   ]
  },
  {
   "cell_type": "markdown",
   "id": "aea0c556-933f-4ec3-90fd-0736fa448603",
   "metadata": {},
   "source": [
    "# d) Remove the duplicate record from the employee data frame."
   ]
  },
  {
   "cell_type": "code",
   "execution_count": 94,
   "id": "144505ee-bc4b-4d32-81e1-7bbeb3aca63a",
   "metadata": {},
   "outputs": [],
   "source": [
    "data.drop_duplicates(inplace=True)"
   ]
  },
  {
   "cell_type": "markdown",
   "id": "f3e40bf7-259a-4066-8632-c40e126fd957",
   "metadata": {},
   "source": [
    "## checking duplicates record again"
   ]
  },
  {
   "cell_type": "code",
   "execution_count": 95,
   "id": "d9a74a0b-c7ca-4545-bde6-fe7e182d5c54",
   "metadata": {},
   "outputs": [
    {
     "data": {
      "text/plain": [
       "0"
      ]
     },
     "execution_count": 95,
     "metadata": {},
     "output_type": "execute_result"
    }
   ],
   "source": [
    "data.duplicated().sum()"
   ]
  },
  {
   "cell_type": "markdown",
   "id": "69bd5b68-ab0a-4605-813d-d90b43db3ede",
   "metadata": {},
   "source": [
    "# e) Write the code to fill the missing value of the Salary, Department, Age columns? Discuss your choice of value, like a hard coded value, a mean, median, mode of the column?"
   ]
  },
  {
   "cell_type": "markdown",
   "id": "eb1b4b99-1b1b-4673-8809-ef9c186aa61a",
   "metadata": {},
   "source": [
    "## checking missing values"
   ]
  },
  {
   "cell_type": "code",
   "execution_count": 103,
   "id": "b1fcee75-6b81-4603-b5da-a6b470ba9579",
   "metadata": {},
   "outputs": [
    {
     "data": {
      "text/html": [
       "<div>\n",
       "<style scoped>\n",
       "    .dataframe tbody tr th:only-of-type {\n",
       "        vertical-align: middle;\n",
       "    }\n",
       "\n",
       "    .dataframe tbody tr th {\n",
       "        vertical-align: top;\n",
       "    }\n",
       "\n",
       "    .dataframe thead th {\n",
       "        text-align: right;\n",
       "    }\n",
       "</style>\n",
       "<table border=\"1\" class=\"dataframe\">\n",
       "  <thead>\n",
       "    <tr style=\"text-align: right;\">\n",
       "      <th></th>\n",
       "      <th>Emp_ID</th>\n",
       "      <th>Designation</th>\n",
       "      <th>Department</th>\n",
       "      <th>Age</th>\n",
       "      <th>Salary</th>\n",
       "    </tr>\n",
       "    <tr>\n",
       "      <th>Serial</th>\n",
       "      <th></th>\n",
       "      <th></th>\n",
       "      <th></th>\n",
       "      <th></th>\n",
       "      <th></th>\n",
       "    </tr>\n",
       "  </thead>\n",
       "  <tbody>\n",
       "  </tbody>\n",
       "</table>\n",
       "</div>"
      ],
      "text/plain": [
       "Empty DataFrame\n",
       "Columns: [Emp_ID, Designation, Department, Age, Salary]\n",
       "Index: []"
      ]
     },
     "execution_count": 103,
     "metadata": {},
     "output_type": "execute_result"
    }
   ],
   "source": [
    "data[data.Salary.isnull()]"
   ]
  },
  {
   "cell_type": "code",
   "execution_count": 102,
   "id": "25077795-104a-4f15-a2f3-d92c5ecf3591",
   "metadata": {},
   "outputs": [
    {
     "data": {
      "text/html": [
       "<div>\n",
       "<style scoped>\n",
       "    .dataframe tbody tr th:only-of-type {\n",
       "        vertical-align: middle;\n",
       "    }\n",
       "\n",
       "    .dataframe tbody tr th {\n",
       "        vertical-align: top;\n",
       "    }\n",
       "\n",
       "    .dataframe thead th {\n",
       "        text-align: right;\n",
       "    }\n",
       "</style>\n",
       "<table border=\"1\" class=\"dataframe\">\n",
       "  <thead>\n",
       "    <tr style=\"text-align: right;\">\n",
       "      <th></th>\n",
       "      <th>Emp_ID</th>\n",
       "      <th>Designation</th>\n",
       "      <th>Department</th>\n",
       "      <th>Age</th>\n",
       "      <th>Salary</th>\n",
       "    </tr>\n",
       "    <tr>\n",
       "      <th>Serial</th>\n",
       "      <th></th>\n",
       "      <th></th>\n",
       "      <th></th>\n",
       "      <th></th>\n",
       "      <th></th>\n",
       "    </tr>\n",
       "  </thead>\n",
       "  <tbody>\n",
       "    <tr>\n",
       "      <th>6</th>\n",
       "      <td>2451</td>\n",
       "      <td>Accountant</td>\n",
       "      <td>NaN</td>\n",
       "      <td>34.0</td>\n",
       "      <td>100000.0</td>\n",
       "    </tr>\n",
       "    <tr>\n",
       "      <th>16</th>\n",
       "      <td>1222</td>\n",
       "      <td>Officer</td>\n",
       "      <td>NaN</td>\n",
       "      <td>25.0</td>\n",
       "      <td>100000.0</td>\n",
       "    </tr>\n",
       "  </tbody>\n",
       "</table>\n",
       "</div>"
      ],
      "text/plain": [
       "        Emp_ID Designation Department   Age    Salary\n",
       "Serial                                               \n",
       "6         2451  Accountant        NaN  34.0  100000.0\n",
       "16        1222     Officer        NaN  25.0  100000.0"
      ]
     },
     "execution_count": 102,
     "metadata": {},
     "output_type": "execute_result"
    }
   ],
   "source": [
    "data[data.Department.isnull()]"
   ]
  },
  {
   "cell_type": "code",
   "execution_count": 98,
   "id": "a5f130c1-3871-4542-9b4c-028c9e12e96a",
   "metadata": {},
   "outputs": [
    {
     "data": {
      "text/html": [
       "<div>\n",
       "<style scoped>\n",
       "    .dataframe tbody tr th:only-of-type {\n",
       "        vertical-align: middle;\n",
       "    }\n",
       "\n",
       "    .dataframe tbody tr th {\n",
       "        vertical-align: top;\n",
       "    }\n",
       "\n",
       "    .dataframe thead th {\n",
       "        text-align: right;\n",
       "    }\n",
       "</style>\n",
       "<table border=\"1\" class=\"dataframe\">\n",
       "  <thead>\n",
       "    <tr style=\"text-align: right;\">\n",
       "      <th></th>\n",
       "      <th>Emp_ID</th>\n",
       "      <th>Designation</th>\n",
       "      <th>Department</th>\n",
       "      <th>Age</th>\n",
       "      <th>Salary</th>\n",
       "    </tr>\n",
       "    <tr>\n",
       "      <th>Serial</th>\n",
       "      <th></th>\n",
       "      <th></th>\n",
       "      <th></th>\n",
       "      <th></th>\n",
       "      <th></th>\n",
       "    </tr>\n",
       "  </thead>\n",
       "  <tbody>\n",
       "    <tr>\n",
       "      <th>7</th>\n",
       "      <td>1111</td>\n",
       "      <td>Accountant</td>\n",
       "      <td>Accounts</td>\n",
       "      <td>NaN</td>\n",
       "      <td>110000.0</td>\n",
       "    </tr>\n",
       "  </tbody>\n",
       "</table>\n",
       "</div>"
      ],
      "text/plain": [
       "        Emp_ID Designation Department  Age    Salary\n",
       "Serial                                              \n",
       "7         1111  Accountant   Accounts  NaN  110000.0"
      ]
     },
     "execution_count": 98,
     "metadata": {},
     "output_type": "execute_result"
    }
   ],
   "source": [
    "data[data.Age.isnull()]"
   ]
  },
  {
   "cell_type": "markdown",
   "id": "3bafef40-5e08-46b3-9d43-d6b2f09b3e5b",
   "metadata": {},
   "source": [
    "# filling missing vlues with mode , medain , mean"
   ]
  },
  {
   "cell_type": "code",
   "execution_count": 101,
   "id": "dd8a40f7-2ffc-4812-a470-b0637b7be223",
   "metadata": {},
   "outputs": [],
   "source": [
    "data[\"Salary\"]= data.Salary.fillna(data.Salary.median())"
   ]
  },
  {
   "cell_type": "code",
   "execution_count": 104,
   "id": "79f325c8-3bc5-4c9c-b5cb-6c774f9be1ac",
   "metadata": {},
   "outputs": [],
   "source": [
    "data[\"Age\"]= data.Age.fillna(data.Age.median())"
   ]
  },
  {
   "cell_type": "code",
   "execution_count": 105,
   "id": "9979d760-865f-460f-bfb4-7f0aa0e41b8a",
   "metadata": {},
   "outputs": [],
   "source": [
    "data[\"Department\"]=data.Department.fillna(data.Department.mode()[0])"
   ]
  },
  {
   "cell_type": "code",
   "execution_count": 106,
   "id": "4201558a-ef0f-42eb-b03e-5910beec8455",
   "metadata": {
    "scrolled": true
   },
   "outputs": [
    {
     "data": {
      "text/html": [
       "<div>\n",
       "<style scoped>\n",
       "    .dataframe tbody tr th:only-of-type {\n",
       "        vertical-align: middle;\n",
       "    }\n",
       "\n",
       "    .dataframe tbody tr th {\n",
       "        vertical-align: top;\n",
       "    }\n",
       "\n",
       "    .dataframe thead th {\n",
       "        text-align: right;\n",
       "    }\n",
       "</style>\n",
       "<table border=\"1\" class=\"dataframe\">\n",
       "  <thead>\n",
       "    <tr style=\"text-align: right;\">\n",
       "      <th></th>\n",
       "      <th>Emp_ID</th>\n",
       "      <th>Designation</th>\n",
       "      <th>Department</th>\n",
       "      <th>Age</th>\n",
       "      <th>Salary</th>\n",
       "    </tr>\n",
       "    <tr>\n",
       "      <th>Serial</th>\n",
       "      <th></th>\n",
       "      <th></th>\n",
       "      <th></th>\n",
       "      <th></th>\n",
       "      <th></th>\n",
       "    </tr>\n",
       "  </thead>\n",
       "  <tbody>\n",
       "    <tr>\n",
       "      <th>1</th>\n",
       "      <td>1101</td>\n",
       "      <td>Manager</td>\n",
       "      <td>Accounts</td>\n",
       "      <td>50.0</td>\n",
       "      <td>200000.0</td>\n",
       "    </tr>\n",
       "    <tr>\n",
       "      <th>2</th>\n",
       "      <td>1107</td>\n",
       "      <td>Officer</td>\n",
       "      <td>IT</td>\n",
       "      <td>30.0</td>\n",
       "      <td>80000.0</td>\n",
       "    </tr>\n",
       "    <tr>\n",
       "      <th>3</th>\n",
       "      <td>1203</td>\n",
       "      <td>Officer</td>\n",
       "      <td>HR</td>\n",
       "      <td>28.0</td>\n",
       "      <td>100000.0</td>\n",
       "    </tr>\n",
       "    <tr>\n",
       "      <th>4</th>\n",
       "      <td>1005</td>\n",
       "      <td>Manager</td>\n",
       "      <td>HR</td>\n",
       "      <td>45.0</td>\n",
       "      <td>120000.0</td>\n",
       "    </tr>\n",
       "    <tr>\n",
       "      <th>5</th>\n",
       "      <td>2123</td>\n",
       "      <td>Office Boy</td>\n",
       "      <td>Accounts</td>\n",
       "      <td>27.0</td>\n",
       "      <td>45000.0</td>\n",
       "    </tr>\n",
       "    <tr>\n",
       "      <th>6</th>\n",
       "      <td>2451</td>\n",
       "      <td>Accountant</td>\n",
       "      <td>IT</td>\n",
       "      <td>34.0</td>\n",
       "      <td>100000.0</td>\n",
       "    </tr>\n",
       "    <tr>\n",
       "      <th>7</th>\n",
       "      <td>1111</td>\n",
       "      <td>Accountant</td>\n",
       "      <td>Accounts</td>\n",
       "      <td>29.5</td>\n",
       "      <td>110000.0</td>\n",
       "    </tr>\n",
       "    <tr>\n",
       "      <th>8</th>\n",
       "      <td>1001</td>\n",
       "      <td>Officer</td>\n",
       "      <td>IT</td>\n",
       "      <td>25.0</td>\n",
       "      <td>75000.0</td>\n",
       "    </tr>\n",
       "    <tr>\n",
       "      <th>9</th>\n",
       "      <td>1234</td>\n",
       "      <td>Manager</td>\n",
       "      <td>IT</td>\n",
       "      <td>23.0</td>\n",
       "      <td>100000.0</td>\n",
       "    </tr>\n",
       "    <tr>\n",
       "      <th>10</th>\n",
       "      <td>2156</td>\n",
       "      <td>Engineer</td>\n",
       "      <td>Production</td>\n",
       "      <td>45.0</td>\n",
       "      <td>89000.0</td>\n",
       "    </tr>\n",
       "    <tr>\n",
       "      <th>11</th>\n",
       "      <td>6543</td>\n",
       "      <td>Officer</td>\n",
       "      <td>Production</td>\n",
       "      <td>29.0</td>\n",
       "      <td>100000.0</td>\n",
       "    </tr>\n",
       "    <tr>\n",
       "      <th>12</th>\n",
       "      <td>3214</td>\n",
       "      <td>Accountant</td>\n",
       "      <td>Account</td>\n",
       "      <td>49.0</td>\n",
       "      <td>123000.0</td>\n",
       "    </tr>\n",
       "    <tr>\n",
       "      <th>14</th>\n",
       "      <td>1098</td>\n",
       "      <td>Officer</td>\n",
       "      <td>IT</td>\n",
       "      <td>25.0</td>\n",
       "      <td>100000.0</td>\n",
       "    </tr>\n",
       "    <tr>\n",
       "      <th>15</th>\n",
       "      <td>2912</td>\n",
       "      <td>Officer</td>\n",
       "      <td>IT</td>\n",
       "      <td>31.0</td>\n",
       "      <td>90000.0</td>\n",
       "    </tr>\n",
       "    <tr>\n",
       "      <th>16</th>\n",
       "      <td>1222</td>\n",
       "      <td>Officer</td>\n",
       "      <td>IT</td>\n",
       "      <td>25.0</td>\n",
       "      <td>100000.0</td>\n",
       "    </tr>\n",
       "  </tbody>\n",
       "</table>\n",
       "</div>"
      ],
      "text/plain": [
       "        Emp_ID Designation  Department   Age    Salary\n",
       "Serial                                                \n",
       "1         1101     Manager    Accounts  50.0  200000.0\n",
       "2         1107     Officer          IT  30.0   80000.0\n",
       "3         1203     Officer          HR  28.0  100000.0\n",
       "4         1005     Manager          HR  45.0  120000.0\n",
       "5         2123  Office Boy    Accounts  27.0   45000.0\n",
       "6         2451  Accountant          IT  34.0  100000.0\n",
       "7         1111  Accountant    Accounts  29.5  110000.0\n",
       "8         1001     Officer          IT  25.0   75000.0\n",
       "9         1234     Manager          IT  23.0  100000.0\n",
       "10        2156    Engineer  Production  45.0   89000.0\n",
       "11        6543     Officer  Production  29.0  100000.0\n",
       "12        3214  Accountant     Account  49.0  123000.0\n",
       "14        1098     Officer          IT  25.0  100000.0\n",
       "15        2912     Officer          IT  31.0   90000.0\n",
       "16        1222     Officer          IT  25.0  100000.0"
      ]
     },
     "execution_count": 106,
     "metadata": {},
     "output_type": "execute_result"
    }
   ],
   "source": [
    "data"
   ]
  },
  {
   "cell_type": "markdown",
   "id": "be534323-1830-493d-bc5c-7c711b5117d2",
   "metadata": {},
   "source": [
    "# f) Write the code to find the average salary of the accounts department."
   ]
  },
  {
   "cell_type": "code",
   "execution_count": 107,
   "id": "66ee18ae-c035-43b9-8569-f83205fb215f",
   "metadata": {},
   "outputs": [
    {
     "data": {
      "text/plain": [
       "123000.0"
      ]
     },
     "execution_count": 107,
     "metadata": {},
     "output_type": "execute_result"
    }
   ],
   "source": [
    "data[data.Department == \"Account\"].Salary.mean()"
   ]
  },
  {
   "cell_type": "markdown",
   "id": "f8fddd22-c32c-4694-ba61-3a66ca007687",
   "metadata": {},
   "source": [
    "# g) What the Emp_ID of the manager having the highest salary"
   ]
  },
  {
   "cell_type": "code",
   "execution_count": 108,
   "id": "22de0986-d209-4ea5-bbf9-c0df90bd028f",
   "metadata": {},
   "outputs": [
    {
     "data": {
      "text/plain": [
       "200000.0"
      ]
     },
     "execution_count": 108,
     "metadata": {},
     "output_type": "execute_result"
    }
   ],
   "source": [
    "data.Salary.max()"
   ]
  },
  {
   "cell_type": "code",
   "execution_count": 109,
   "id": "0549e895-1a47-4d5a-bf85-5b782bd04814",
   "metadata": {},
   "outputs": [
    {
     "data": {
      "text/plain": [
       "Serial\n",
       "1    1101\n",
       "Name: Emp_ID, dtype: int64"
      ]
     },
     "execution_count": 109,
     "metadata": {},
     "output_type": "execute_result"
    }
   ],
   "source": [
    "data[data.Salary == data.Salary.max()][\"Emp_ID\"]"
   ]
  },
  {
   "cell_type": "markdown",
   "id": "9df52a23-4270-44ad-b1f7-9f2d4eb82a76",
   "metadata": {},
   "source": [
    "# h) What is the average age of the Officers in the company?"
   ]
  },
  {
   "cell_type": "code",
   "execution_count": 110,
   "id": "e94d1560-548a-44af-a8d0-a6544f621b2c",
   "metadata": {},
   "outputs": [
    {
     "data": {
      "text/plain": [
       "27.571428571428573"
      ]
     },
     "execution_count": 110,
     "metadata": {},
     "output_type": "execute_result"
    }
   ],
   "source": [
    "data[data.Designation == \"Officer\"].Age.mean()"
   ]
  },
  {
   "cell_type": "markdown",
   "id": "f33be598-604f-452f-8685-360a9c9c73dd",
   "metadata": {},
   "source": [
    "# i) Write the query to show how many employees are working in IT department?"
   ]
  },
  {
   "cell_type": "code",
   "execution_count": 116,
   "id": "0b95d35b-0550-4bdb-9579-23e978565cfb",
   "metadata": {},
   "outputs": [],
   "source": [
    "a = data.Department==\"IT\""
   ]
  },
  {
   "cell_type": "code",
   "execution_count": 117,
   "id": "1b33aafc-871a-4e44-a2c3-de4b3f1ee5f1",
   "metadata": {},
   "outputs": [
    {
     "data": {
      "text/plain": [
       "7"
      ]
     },
     "execution_count": 117,
     "metadata": {},
     "output_type": "execute_result"
    }
   ],
   "source": [
    "a.sum()"
   ]
  },
  {
   "cell_type": "markdown",
   "id": "e07ad0f8-3b4c-43d9-a4c3-2ee63cc2b863",
   "metadata": {},
   "source": [
    "# j) After cleaning the employee data set, save the data set in csv format in a file named as ‘employee.csv’."
   ]
  },
  {
   "cell_type": "code",
   "execution_count": null,
   "id": "cf685085-eb42-41ac-800d-55642a836871",
   "metadata": {},
   "outputs": [],
   "source": []
  }
 ],
 "metadata": {
  "kernelspec": {
   "display_name": "Python 3 (ipykernel)",
   "language": "python",
   "name": "python3"
  },
  "language_info": {
   "codemirror_mode": {
    "name": "ipython",
    "version": 3
   },
   "file_extension": ".py",
   "mimetype": "text/x-python",
   "name": "python",
   "nbconvert_exporter": "python",
   "pygments_lexer": "ipython3",
   "version": "3.12.1"
  }
 },
 "nbformat": 4,
 "nbformat_minor": 5
}
